{
  "cells": [
    {
      "cell_type": "markdown",
      "id": "8cfd85ce",
      "metadata": {
        "papermill": {
          "duration": 0.010638,
          "end_time": "2023-06-12T21:08:53.313848",
          "exception": false,
          "start_time": "2023-06-12T21:08:53.303210",
          "status": "completed"
        },
        "tags": [],
        "id": "8cfd85ce"
      },
      "source": [
        "<h1><center><b>NeutrinAI</b></center></h1>"
      ]
    },
    {
      "cell_type": "markdown",
      "id": "04c67a51",
      "metadata": {
        "papermill": {
          "duration": 0.011054,
          "end_time": "2023-06-12T21:08:53.335907",
          "exception": false,
          "start_time": "2023-06-12T21:08:53.324853",
          "status": "completed"
        },
        "tags": [],
        "id": "04c67a51"
      },
      "source": [
        "# **Model description**"
      ]
    },
    {
      "cell_type": "markdown",
      "id": "cbfb013c",
      "metadata": {
        "papermill": {
          "duration": 0.013008,
          "end_time": "2023-06-12T21:08:53.361137",
          "exception": false,
          "start_time": "2023-06-12T21:08:53.348129",
          "status": "completed"
        },
        "tags": [],
        "id": "cbfb013c"
      },
      "source": [
        "- Input Features\n",
        "    - 6 features are used as input.\n",
        "        - $\\vec{f} \\equiv $ $<$ $t$, $a$(uxiliary), $c$(harge), $x$, $y$, $z$ $>$\n",
        "- Two RSBlocks\n",
        "    - I have implemented `RSBlock` class. It consists of H (low level feature) layer, M (mapping) layer, FR (feature raising) layer, A (aggregation) layer and CR (channel raising) layer.\n",
        "    - H, Low Level Features for Relation-Shape\n",
        "        - $\\rm \\left(B_{atch}, N_{umber-of-pulses}, F_{eatures} \\right) \\rightarrow \\left( B, N, K_{nearest-neighbors}, H_{low-level-features} \\right)$\n",
        "        - For each points $\\vec{f_{0}}$ and its time-nearest points $\\vec{f_{k}}$, evaluate low level feautres $\\vec{h_{k, 0}} = \\left< t_{k} - t_{0}, x_{k} - x_{0}, \\rm{distance}, \\cdots \\right>$.\n",
        "    - M, Mapping Layer\n",
        "        - $\\rm \\left(B, N, K, F_{in} \\right) \\rightarrow \\left( B, N, K, F_{out} \\right)$\n",
        "        - From $\\rm F_{in}$ number of low-level features, generated $\\rm F_{out}$ number of higher-level features.\n",
        "        - Conv2d with $1 \\times 1$ window was used.\n",
        "    - FR, Feature Raising Layer\n",
        "        - $\\rm \\left(B, N, F_{eatures} \\right) \\rightarrow \\left( B, N, F_{FR} \\right)$\n",
        "        - For the feature vector of the point (not neighbor), $\\vec{f_{0}}$, increase its features into higher level.\n",
        "        - Conv1d with window length of 1 was used.\n",
        "    - A, Aggregation Layer\n",
        "        - So, now we have two tensors.\n",
        "            - $FR_{n, f}$ with shape of $\\rm \\left( B, N, F_{FR} \\right)$ from the point, and $M_{nkf}$ with shape of $\\rm \\left( B, N, K, F_{out} \\right)$ from its neighbors.\n",
        "            - $\\rm F_{FR}$ and $\\rm F_{out}$ must be same, \n",
        "        - Calculate tensor $T$ as component-wise product, $T_{n, k, f} = FR_{n, f} \\cdot M_{n, k, f}$.\n",
        "        - Aggregate features from its neighbors. $A_{n, f} = \\rm{max}_{among ~ \\it k} \\it \\left( T_{n, k, f} \\right)$.\n",
        "        - Now, we have $A_{n, f}$ tensor with shape of $\\rm \\left(B, N, F_{FR} \\right)$\n",
        "    - CR, Channel Raising Layer\n",
        "        - $\\rm \\left(B, N, F_{FR} \\right) \\rightarrow \\left( B, N, F_{CR} \\right)$\n",
        "        - Raise number of channels using 1D Conv with the window length of 1.\n",
        "- GABlock with RNN\n",
        "    - $\\rm \\left(B, N, F_{CR} \\right) \\rightarrow \\left( B, 3 \\right)$\n",
        "    - Globally aggregate relation-shape pulse features to predict the angle.\n",
        "    - 3 GRU layers were adopted here.\n",
        "    - Attached one hidden Dense layer after the series of GRUs, and one output Dense layer for prediction."
      ]
    },
    {
      "cell_type": "markdown",
      "id": "5240d042",
      "metadata": {
        "papermill": {
          "duration": 0.011609,
          "end_time": "2023-06-12T21:08:53.383967",
          "exception": false,
          "start_time": "2023-06-12T21:08:53.372358",
          "status": "completed"
        },
        "tags": [],
        "id": "5240d042"
      },
      "source": [
        "# **Relation-Shape-RNN**"
      ]
    },
    {
      "cell_type": "markdown",
      "id": "007d99d7",
      "metadata": {
        "papermill": {
          "duration": 0.013095,
          "end_time": "2023-06-12T21:08:53.409929",
          "exception": false,
          "start_time": "2023-06-12T21:08:53.396834",
          "status": "completed"
        },
        "tags": [],
        "id": "007d99d7"
      },
      "source": [
        "- Why RNN-based?\n",
        "    - Light LSTM model showed some performance.\n",
        "    - These may imply there could be some potential on RNN-based method. So I decided to bet my effort on it.\n",
        "        - It is much easier to understand than GNN. Don't need other packages like `~_geometry` or `~_knn~`.\n",
        "- Relation-Shape?\n",
        "    - The key point was to train the `local shape` features. They gathered some nearest neighbors using knn, evaluated some local shape features like $d\\vec{x}$ or euclidean distance, and applied cnn on those features.\n",
        "- How to train Relation-Shape in RNN?\n",
        "    - I've interpreted our dataset as 4-dimensional point cloud.\n",
        "        - $x^{\\mu} = \\left< t, ~ x, ~ y, ~ z \\right>$\n",
        "    - My guess (and maybe the most important reason for the low performance of my model) was that the *nearest neighbor* in our data can be approximated as *time-nearest neighbor*.\n",
        "    - So, I have implemented the relation-shape learning as 1D-Conv network, where the points are sorted in the time order.\n"
      ]
    },
    {
      "cell_type": "markdown",
      "id": "e89b6b68",
      "metadata": {
        "papermill": {
          "duration": 0.010528,
          "end_time": "2023-06-12T21:08:53.431073",
          "exception": false,
          "start_time": "2023-06-12T21:08:53.420545",
          "status": "completed"
        },
        "tags": [],
        "id": "e89b6b68"
      },
      "source": [
        "# **Loss function**"
      ]
    },
    {
      "cell_type": "markdown",
      "id": "c21b5860",
      "metadata": {
        "papermill": {
          "duration": 0.010294,
          "end_time": "2023-06-12T21:08:53.453612",
          "exception": false,
          "start_time": "2023-06-12T21:08:53.443318",
          "status": "completed"
        },
        "tags": [],
        "id": "c21b5860"
      },
      "source": [
        "I've implemented and used `VonMisesFisher3DLoss"
      ]
    },
    {
      "cell_type": "markdown",
      "id": "95671b0e",
      "metadata": {
        "papermill": {
          "duration": 0.011247,
          "end_time": "2023-06-12T21:08:53.475904",
          "exception": false,
          "start_time": "2023-06-12T21:08:53.464657",
          "status": "completed"
        },
        "tags": [],
        "id": "95671b0e"
      },
      "source": [
        "# **Libraries**"
      ]
    },
    {
      "cell_type": "code",
      "execution_count": null,
      "id": "4583af2c",
      "metadata": {
        "execution": {
          "iopub.execute_input": "2023-06-12T21:08:53.498887Z",
          "iopub.status.busy": "2023-06-12T21:08:53.498457Z",
          "iopub.status.idle": "2023-06-12T21:08:57.016591Z",
          "shell.execute_reply": "2023-06-12T21:08:57.014180Z"
        },
        "papermill": {
          "duration": 3.536168,
          "end_time": "2023-06-12T21:08:57.021692",
          "exception": false,
          "start_time": "2023-06-12T21:08:53.485524",
          "status": "completed"
        },
        "tags": [],
        "id": "4583af2c",
        "outputId": "9af055ee-2d67-4a30-da0d-4e9b364c6cbc"
      },
      "outputs": [
        {
          "name": "stdout",
          "output_type": "stream",
          "text": [
            "DataIO.py  Layers.py  Losses.py  Metrics.py  Utils.py  __init__.py\r\n"
          ]
        }
      ],
      "source": [
        "!mkdir ./Packages\n",
        "!cp /neutrinai-packages/*.py ./Packages\n",
        "!ls ./Packages/"
      ]
    },
    {
      "cell_type": "code",
      "execution_count": null,
      "id": "f261d3b2",
      "metadata": {
        "execution": {
          "iopub.execute_input": "2023-06-12T21:08:57.053827Z",
          "iopub.status.busy": "2023-06-12T21:08:57.053304Z",
          "iopub.status.idle": "2023-06-12T21:09:13.979113Z",
          "shell.execute_reply": "2023-06-12T21:09:13.977356Z"
        },
        "papermill": {
          "duration": 16.943959,
          "end_time": "2023-06-12T21:09:13.982837",
          "exception": false,
          "start_time": "2023-06-12T21:08:57.038878",
          "status": "completed"
        },
        "tags": [],
        "id": "f261d3b2",
        "outputId": "b8bbcd5c-3904-4f49-e4fc-ec40b6b6d797"
      },
      "outputs": [
        {
          "name": "stderr",
          "output_type": "stream",
          "text": [
            "/opt/conda/lib/python3.10/site-packages/tensorflow_io/python/ops/__init__.py:98: UserWarning: unable to load libtensorflow_io_plugins.so: unable to open file: libtensorflow_io_plugins.so, from paths: ['/opt/conda/lib/python3.10/site-packages/tensorflow_io/python/ops/libtensorflow_io_plugins.so']\n",
            "caused by: ['/opt/conda/lib/python3.10/site-packages/tensorflow_io/python/ops/libtensorflow_io_plugins.so: undefined symbol: _ZN3tsl6StatusC1EN10tensorflow5error4CodeESt17basic_string_viewIcSt11char_traitsIcEENS_14SourceLocationE']\n",
            "  warnings.warn(f\"unable to load libtensorflow_io_plugins.so: {e}\")\n",
            "/opt/conda/lib/python3.10/site-packages/tensorflow_io/python/ops/__init__.py:104: UserWarning: file system plugins are not loaded: unable to open file: libtensorflow_io.so, from paths: ['/opt/conda/lib/python3.10/site-packages/tensorflow_io/python/ops/libtensorflow_io.so']\n",
            "caused by: ['/opt/conda/lib/python3.10/site-packages/tensorflow_io/python/ops/libtensorflow_io.so: undefined symbol: _ZTVN10tensorflow13GcsFileSystemE']\n",
            "  warnings.warn(f\"file system plugins are not loaded: {e}\")\n"
          ]
        }
      ],
      "source": [
        "import os,random,time,gc,matplotlib as mpl,matplotlib.pyplot as plt, pandas as pd\n",
        "from tqdm import tqdm\n",
        "import numpy as np,pandas as pd,pyarrow.parquet as pq,pyarrow as pa,tensorflow as tf\n",
        "from Packages.Layers import GABlockResRNN, RSBlock\n",
        "from Packages.Losses import VonMisesFisher3DLoss\n",
        "from Packages.Metrics import AngularDistScore, angular_dist_score\n",
        "from Packages.Utils import GpuMemoryManagement\n",
        "from typing import List"
      ]
    },
    {
      "cell_type": "markdown",
      "id": "c5b0c705",
      "metadata": {
        "papermill": {
          "duration": 0.012728,
          "end_time": "2023-06-12T21:09:14.006183",
          "exception": false,
          "start_time": "2023-06-12T21:09:13.993455",
          "status": "completed"
        },
        "tags": [],
        "id": "c5b0c705"
      },
      "source": [
        "# **Sensor geometry**"
      ]
    },
    {
      "cell_type": "code",
      "execution_count": null,
      "id": "7a8bd3c2",
      "metadata": {
        "execution": {
          "iopub.execute_input": "2023-06-12T21:09:14.034896Z",
          "iopub.status.busy": "2023-06-12T21:09:14.033038Z",
          "iopub.status.idle": "2023-06-12T21:09:14.098060Z",
          "shell.execute_reply": "2023-06-12T21:09:14.096230Z"
        },
        "papermill": {
          "duration": 0.084581,
          "end_time": "2023-06-12T21:09:14.101869",
          "exception": false,
          "start_time": "2023-06-12T21:09:14.017288",
          "status": "completed"
        },
        "tags": [],
        "id": "7a8bd3c2"
      },
      "outputs": [],
      "source": [
        "# sensor_geometry\n",
        "sensor_geometry_df = pd.read_csv(\"neutrinai-packages/sensor_geometry.csv\")\n",
        "\n",
        "# counts\n",
        "doms_per_string = 60\n",
        "string_num = 86\n",
        "\n",
        "# index\n",
        "outer_long_strings = np.concatenate([np.arange(0, 25), np.arange(27, 34), np.arange(37, 44), np.arange(46, 78)])\n",
        "inner_long_strings = np.array([25, 26, 34, 35, 36, 44, 45])\n",
        "inner_short_strings = np.array([78, 79, 80, 81, 82, 83, 84, 85])\n",
        "\n",
        "# known specs\n",
        "outer_xy_resolution = 125. / 2\n",
        "inner_xy_resolution = 70. / 2\n",
        "long_z_resolution = 17. / 2\n",
        "short_z_resolution = 7. / 2\n",
        "\n",
        "# evaluate error\n",
        "sensor_x = sensor_geometry_df.x\n",
        "sensor_y = sensor_geometry_df.y\n",
        "sensor_z = sensor_geometry_df.z\n",
        "sensor_r_err = np.ones(doms_per_string * string_num)\n",
        "sensor_z_err = np.ones(doms_per_string * string_num)\n",
        "\n",
        "# r-error\n",
        "for string_id in outer_long_strings:\n",
        "    sensor_r_err[string_id * doms_per_string:(string_id + 1) * doms_per_string] = outer_xy_resolution\n",
        "for string_id in np.concatenate([inner_long_strings, inner_short_strings]):\n",
        "    sensor_r_err[string_id * doms_per_string:(string_id + 1) * doms_per_string] = inner_xy_resolution\n",
        "\n",
        "# z-error\n",
        "for string_id in outer_long_strings:\n",
        "    sensor_z_err[string_id * doms_per_string:(string_id + 1) * doms_per_string] = long_z_resolution\n",
        "for string_id in np.concatenate([inner_long_strings, inner_short_strings]):\n",
        "    for dom_id in range(doms_per_string):\n",
        "        z = sensor_z[string_id * doms_per_string + dom_id]\n",
        "        if (z < -156.) or (z > 95.5 and z < 191.5):\n",
        "            sensor_z_err[string_id * doms_per_string + dom_id] = short_z_resolution\n",
        "        else:\n",
        "            sensor_z_err[string_id * doms_per_string + dom_id] = long_z_resolution\n",
        "# register\n",
        "sensor_geometry_df[\"r_err\"] = sensor_r_err\n",
        "sensor_geometry_df[\"z_err\"] = sensor_z_err"
      ]
    },
    {
      "cell_type": "code",
      "execution_count": null,
      "id": "be6d975c",
      "metadata": {
        "execution": {
          "iopub.execute_input": "2023-06-12T21:09:14.128659Z",
          "iopub.status.busy": "2023-06-12T21:09:14.128154Z",
          "iopub.status.idle": "2023-06-12T21:09:14.143459Z",
          "shell.execute_reply": "2023-06-12T21:09:14.140243Z"
        },
        "papermill": {
          "duration": 0.033575,
          "end_time": "2023-06-12T21:09:14.147093",
          "exception": false,
          "start_time": "2023-06-12T21:09:14.113518",
          "status": "completed"
        },
        "tags": [],
        "id": "be6d975c",
        "outputId": "281cc924-093f-4152-83b2-dae0bb87ef90"
      },
      "outputs": [
        {
          "name": "stdout",
          "output_type": "stream",
          "text": [
            "t_valid_length:  6199.700247193777  ns\n"
          ]
        }
      ],
      "source": [
        "# detector constants\n",
        "c_const = 0.299792458  # speed of light [m/ns]\n",
        "\n",
        "x_min = sensor_x.min()\n",
        "x_max = sensor_x.max()\n",
        "y_min = sensor_y.min()\n",
        "y_max = sensor_y.max()\n",
        "z_min = sensor_z.min()\n",
        "z_max = sensor_z.max()\n",
        "\n",
        "detector_length = np.sqrt((x_max - x_min)**2 + (y_max - y_min)**2 + (z_max - z_min)**2)\n",
        "t_valid_length = detector_length / c_const\n",
        "\n",
        "print(\"t_valid_length: \", t_valid_length, \" ns\")"
      ]
    },
    {
      "cell_type": "markdown",
      "id": "41797354",
      "metadata": {
        "papermill": {
          "duration": 0.010929,
          "end_time": "2023-06-12T21:09:14.171549",
          "exception": false,
          "start_time": "2023-06-12T21:09:14.160620",
          "status": "completed"
        },
        "tags": [],
        "id": "41797354"
      },
      "source": [
        "# **Generator from parquet**"
      ]
    },
    {
      "cell_type": "code",
      "execution_count": null,
      "id": "c3196c2b",
      "metadata": {
        "execution": {
          "iopub.execute_input": "2023-06-12T21:09:14.196758Z",
          "iopub.status.busy": "2023-06-12T21:09:14.196288Z",
          "iopub.status.idle": "2023-06-12T21:09:14.224072Z",
          "shell.execute_reply": "2023-06-12T21:09:14.222686Z"
        },
        "papermill": {
          "duration": 0.045094,
          "end_time": "2023-06-12T21:09:14.227930",
          "exception": false,
          "start_time": "2023-06-12T21:09:14.182836",
          "status": "completed"
        },
        "tags": [],
        "id": "c3196c2b"
      },
      "outputs": [],
      "source": [
        "def generator_from_parquet(\n",
        "    meta_data_path,\n",
        "    data_path_header,\n",
        "    max_pulse_count: int=128,\n",
        "    max_batch_id: int=9999,\n",
        "):\n",
        "    # type conversion for tf\n",
        "    if type(meta_data_path) == bytes:\n",
        "        meta_data_path = str(meta_data_path, 'utf-8')\n",
        "    if type(data_path_header) == bytes:\n",
        "        data_path_header = str(data_path_header, 'utf-8')\n",
        "        \n",
        "    print(meta_data_path)\n",
        "    print(data_path_header)\n",
        "    \n",
        "    # read one batch\n",
        "    meta_data = pq.ParquetFile(meta_data_path)\n",
        "    for meta_batch in meta_data.iter_batches(batch_size=200000):\n",
        "        # batch meta data\n",
        "        batch_id = meta_batch[\"batch_id\"][0].as_py()\n",
        "        event_ids = meta_batch[\"event_id\"].to_numpy()\n",
        "        \n",
        "        if batch_id > max_batch_id:\n",
        "            print(\"Reached max_batch_id!\")\n",
        "            return\n",
        "        \n",
        "        # batch data\n",
        "        data_batch = pq.read_table(data_path_header + f\"{batch_id:d}.parquet\")\n",
        "        sensor_id = data_batch[\"sensor_id\"].combine_chunks().to_numpy()\n",
        "        time = data_batch[\"time\"].combine_chunks().to_numpy()\n",
        "        charge = data_batch[\"charge\"].combine_chunks().to_numpy()\n",
        "        auxiliary = data_batch[\"auxiliary\"].combine_chunks().to_numpy(False)\n",
        "        pulse_index = np.append(meta_batch[\"first_pulse_index\"].to_numpy(), [data_batch.num_rows])\n",
        "        \n",
        "        # read each event\n",
        "        for event_id, first_idx, last_idx in zip(event_ids, pulse_index[:-1], pulse_index[1:]):\n",
        "            event_time = time[first_idx:last_idx]\n",
        "            event_time = event_time - event_time.min()\n",
        "            event_charge = charge[first_idx:last_idx]\n",
        "            event_auxiliary = auxiliary[first_idx:last_idx]\n",
        "            event_x = sensor_geometry_df.x[sensor_id[first_idx:last_idx]].values\n",
        "            event_y = sensor_geometry_df.y[sensor_id[first_idx:last_idx]].values\n",
        "            event_z = sensor_geometry_df.z[sensor_id[first_idx:last_idx]].values\n",
        "            \n",
        "            dtype = [\n",
        "                (\"time\", \"float16\"),\n",
        "                (\"charge\", \"float16\"),\n",
        "                (\"auxiliary\", \"float16\"),\n",
        "                (\"x\", \"float16\"),\n",
        "                (\"y\", \"float16\"),\n",
        "                (\"z\", \"float16\"),\n",
        "                (\"rank\", \"short\")\n",
        "            ]\n",
        "            event_features = np.zeros(last_idx - first_idx, dtype)\n",
        "            event_features[\"time\"] = event_time\n",
        "            event_features[\"charge\"] = event_charge\n",
        "            event_features[\"auxiliary\"] = event_auxiliary\n",
        "            event_features[\"x\"] = event_x\n",
        "            event_features[\"y\"] = event_y\n",
        "            event_features[\"z\"] = event_z\n",
        "\n",
        "            # point picker\n",
        "            if len(event_x) > max_pulse_count:\n",
        "                # find valid time window\n",
        "                t_peak = event_features[\"time\"][event_features[\"charge\"].argmax()]\n",
        "                t_valid_min = t_peak - t_valid_length\n",
        "                t_valid_max = t_peak + t_valid_length\n",
        "                \n",
        "                # rank\n",
        "                t_valid = (event_features[\"time\"] > t_valid_min) * (event_features[\"time\"] < t_valid_max)\n",
        "                event_features[\"rank\"] = 2 * (1 - event_features[\"auxiliary\"]) + (t_valid)\n",
        "                \n",
        "                # sort by rank and charge\n",
        "                event_features = np.sort(event_features, order=[\"rank\", \"charge\"])\n",
        "                \n",
        "                # pick-up from backward\n",
        "                event_features = event_features[-max_pulse_count:]\n",
        "                \n",
        "                # resort by time\n",
        "                event_features = np.sort(event_features, order=\"time\")\n",
        "            \n",
        "            pulse_count = min(len(event_x), max_pulse_count)\n",
        "            \n",
        "            # yield\n",
        "            features = np.zeros((max_pulse_count, 6), dtype=\"float32\")\n",
        "            features[:pulse_count, 0] = (event_features[\"time\"] - event_features[\"time\"].min()).astype(\"float32\") / 1000.\n",
        "            features[:pulse_count, 1] = event_features[\"charge\"].astype(\"float32\") / 300.\n",
        "            features[:pulse_count, 2] = event_features[\"auxiliary\"].astype(\"float32\") * 1.\n",
        "            features[:pulse_count, 3] = event_features[\"x\"].astype(\"float32\") / 600.\n",
        "            features[:pulse_count, 4] = event_features[\"y\"].astype(\"float32\") / 600.\n",
        "            features[:pulse_count, 5] = event_features[\"z\"].astype(\"float32\") / 600.\n",
        "\n",
        "            features[:, :][features[:, 1] == 0.0] = 0.0  # for masking layer\n",
        "            \n",
        "            yield event_id, features\n",
        "        \n",
        "        # memory management\n",
        "        del auxiliary, charge, time, sensor_id, data_batch, pulse_index, event_id\n",
        "        _=gc.collect()"
      ]
    },
    {
      "cell_type": "markdown",
      "id": "665a1679",
      "metadata": {
        "papermill": {
          "duration": 0.010463,
          "end_time": "2023-06-12T21:09:14.249085",
          "exception": false,
          "start_time": "2023-06-12T21:09:14.238622",
          "status": "completed"
        },
        "tags": [],
        "id": "665a1679"
      },
      "source": [
        "# **Loading model**"
      ]
    },
    {
      "cell_type": "code",
      "execution_count": null,
      "id": "37f5d446",
      "metadata": {
        "execution": {
          "iopub.execute_input": "2023-06-12T21:09:14.273911Z",
          "iopub.status.busy": "2023-06-12T21:09:14.273151Z",
          "iopub.status.idle": "2023-06-12T21:09:24.496704Z",
          "shell.execute_reply": "2023-06-12T21:09:24.494792Z"
        },
        "papermill": {
          "duration": 10.239922,
          "end_time": "2023-06-12T21:09:24.499687",
          "exception": false,
          "start_time": "2023-06-12T21:09:14.259765",
          "status": "completed"
        },
        "tags": [],
        "id": "37f5d446",
        "outputId": "68deeeca-7ceb-4124-a7da-0581d644d38c"
      },
      "outputs": [
        {
          "name": "stdout",
          "output_type": "stream",
          "text": [
            "Model: \"RSGRUDA_s3260114_s595_s756_s639_s585_s403_s158_s263_s756\"\n",
            "__________________________________________________________________________________________________\n",
            " Layer (type)                   Output Shape         Param #     Connected to                     \n",
            "==================================================================================================\n",
            " input_1 (InputLayer)           [(None, 128, 6)]     0           []                               \n",
            "                                                                                                  \n",
            " Masking (Masking)              (None, 128, 6)       0           ['input_1[0][0]']                \n",
            "                                                                                                  \n",
            " rs_block (RSBlock)             ((None, 128, 6),     6820        ['Masking[0][0]']                \n",
            "                                 (None, 128, 93))                                                 \n",
            "                                                                                                  \n",
            " rs_block_1 (RSBlock)           ((None, 128, 6),     9517        ['rs_block[0][0]',               \n",
            "                                 (None, 128, 93))                 'rs_block[0][1]']               \n",
            "                                                                                                  \n",
            " RNN_input (Concatenate)        (None, 128, 192)     0           ['Masking[0][0]',                \n",
            "                                                                  'rs_block[0][1]',               \n",
            "                                                                  'rs_block_1[0][1]']             \n",
            "                                                                                                  \n",
            " ga_block_res_rnn (GABlockResRN  (None, 3)           551299      ['RNN_input[0][0]']              \n",
            " N)                                                                                               \n",
            "                                                                                                  \n",
            "==================================================================================================\n",
            "Total params: 567,636\n",
            "Trainable params: 566,768\n",
            "Non-trainable params: 868\n",
            "__________________________________________________________________________________________________\n"
          ]
        }
      ],
      "source": [
        "model_dir = \"/neutrinai-packages/\"\n",
        "\n",
        "model_da_name = \"best_model\"\n",
        "model_da = tf.keras.models.load_model(\n",
        "    model_dir + model_da_name + \".h5\",\n",
        "    custom_objects={\n",
        "        \"VonMisesFisher3DLoss\": VonMisesFisher3DLoss,\n",
        "        \"AngularDistScore\": AngularDistScore,\n",
        "        \"RSBlock\": RSBlock,\n",
        "        \"GABlockResRNN\": GABlockResRNN,\n",
        "    },\n",
        ")\n",
        "model_da.summary()"
      ]
    },
    {
      "cell_type": "markdown",
      "id": "207a8052",
      "metadata": {
        "papermill": {
          "duration": 0.011127,
          "end_time": "2023-06-12T21:09:24.522842",
          "exception": false,
          "start_time": "2023-06-12T21:09:24.511715",
          "status": "completed"
        },
        "tags": [],
        "id": "207a8052"
      },
      "source": [
        "# **Projections in test dataset**"
      ]
    },
    {
      "cell_type": "code",
      "execution_count": null,
      "id": "49229c35",
      "metadata": {
        "execution": {
          "iopub.execute_input": "2023-06-12T21:09:24.550564Z",
          "iopub.status.busy": "2023-06-12T21:09:24.550031Z",
          "iopub.status.idle": "2023-06-12T21:09:24.557219Z",
          "shell.execute_reply": "2023-06-12T21:09:24.556182Z"
        },
        "papermill": {
          "duration": 0.025328,
          "end_time": "2023-06-12T21:09:24.559676",
          "exception": false,
          "start_time": "2023-06-12T21:09:24.534348",
          "status": "completed"
        },
        "tags": [],
        "id": "49229c35"
      },
      "outputs": [],
      "source": [
        "max_batch_id = 99999\n",
        "batch_size = 128\n",
        "\n",
        "if max_batch_id < 9999:\n",
        "    print(\"Starting\")\n",
        "    split_name = \"train\"\n",
        "else:\n",
        "    split_name = \"test\"\n",
        "\n",
        "home_dir = \"/wowdao-self-supervised-learning-dataset/\"\n",
        "meta_data_path = home_dir + split_name + '_meta.parquet'\n",
        "data_dir = home_dir + split_name + \"/\"\n",
        "data_path_header = data_dir + \"batch_\"\n",
        "\n",
        "max_pulse_count = 128\n",
        "max_pulse_count_lite = 80\n",
        "\n",
        "AUTOTUNE = tf.data.experimental.AUTOTUNE"
      ]
    },
    {
      "cell_type": "code",
      "execution_count": null,
      "id": "600913fc",
      "metadata": {
        "execution": {
          "iopub.execute_input": "2023-06-12T21:09:24.585953Z",
          "iopub.status.busy": "2023-06-12T21:09:24.585483Z",
          "iopub.status.idle": "2023-06-12T21:09:24.689628Z",
          "shell.execute_reply": "2023-06-12T21:09:24.688031Z"
        },
        "papermill": {
          "duration": 0.121207,
          "end_time": "2023-06-12T21:09:24.693179",
          "exception": false,
          "start_time": "2023-06-12T21:09:24.571972",
          "status": "completed"
        },
        "tags": [],
        "id": "600913fc"
      },
      "outputs": [],
      "source": [
        "test_da_ds = tf.data.Dataset.from_generator(\n",
        "    generator_from_parquet,\n",
        "    args=[meta_data_path, data_path_header, max_pulse_count, max_batch_id],\n",
        "    output_types=(tf.int32, tf.float32),\n",
        "    output_shapes=((None), (max_pulse_count, 6)),\n",
        ")\n",
        "test_da_ds = test_da_ds.batch(batch_size).prefetch(AUTOTUNE)"
      ]
    },
    {
      "cell_type": "code",
      "execution_count": null,
      "id": "b187ca29",
      "metadata": {
        "execution": {
          "iopub.execute_input": "2023-06-12T21:09:24.726097Z",
          "iopub.status.busy": "2023-06-12T21:09:24.725556Z",
          "iopub.status.idle": "2023-06-12T21:09:24.733957Z",
          "shell.execute_reply": "2023-06-12T21:09:24.732177Z"
        },
        "papermill": {
          "duration": 0.030438,
          "end_time": "2023-06-12T21:09:24.737634",
          "exception": false,
          "start_time": "2023-06-12T21:09:24.707196",
          "status": "completed"
        },
        "tags": [],
        "id": "b187ca29"
      },
      "outputs": [],
      "source": [
        "with open('pred_da.csv', 'w') as pred_csv:\n",
        "    pred_csv.write('event_id,pred_x,pred_y,pred_z\\n')\n",
        "\n",
        "with open('pred_lite.csv', 'w') as pred_csv:\n",
        "    pred_csv.write('event_id,pred_x,pred_y,pred_z,pulse\\n')"
      ]
    },
    {
      "cell_type": "code",
      "execution_count": null,
      "id": "33db2ddd",
      "metadata": {
        "execution": {
          "iopub.execute_input": "2023-06-12T21:09:24.766450Z",
          "iopub.status.busy": "2023-06-12T21:09:24.765795Z",
          "iopub.status.idle": "2023-06-12T21:09:33.876179Z",
          "shell.execute_reply": "2023-06-12T21:09:33.874676Z"
        },
        "papermill": {
          "duration": 9.128143,
          "end_time": "2023-06-12T21:09:33.879095",
          "exception": false,
          "start_time": "2023-06-12T21:09:24.750952",
          "status": "completed"
        },
        "tags": [],
        "id": "33db2ddd",
        "outputId": "5489901d-1677-4c3f-ea8a-9c10ecef2fba"
      },
      "outputs": [
        {
          "name": "stdout",
          "output_type": "stream",
          "text": [
            "One batch has 1562 steps\n",
            "/kaggle/input/icecube-neutrinos-in-deep-ice/test_meta.parquet\n",
            "/kaggle/input/icecube-neutrinos-in-deep-ice/test/batch_\n",
            "      1CPU times: user 8.85 s, sys: 253 ms, total: 9.1 s\n",
            "Wall time: 9.09 s\n"
          ]
        }
      ],
      "source": [
        "%%time\n",
        "\n",
        "steps_per_batch = np.ceil(200000 // batch_size)\n",
        "print(f\"One batch has {int(steps_per_batch):d} steps\")\n",
        "\n",
        "step = 0\n",
        "for batch_data in test_da_ds:\n",
        "    step += 1\n",
        "    print(f\"{step:7d}\", end=\"\")\n",
        "    if (step % 20 == 0) or (step % steps_per_batch == 0):\n",
        "        print()\n",
        "        \n",
        "    batch_event_id, batch_features = batch_data\n",
        "#     batch_features[:, :, :][batch_features[:, :, 1] == 0.0] = 0.0  # for masking\n",
        "    \n",
        "    test_pred = model_da.predict_on_batch(batch_features)\n",
        "    \n",
        "    with open('pred_da.csv', 'a') as pred_csv:\n",
        "        for event_id, pred_x, pred_y, pred_z in zip(batch_event_id, test_pred[:, 0], test_pred[:, 1], test_pred[:, 2]):\n",
        "            pred_csv.write(f\"{event_id:d},{pred_x:f},{pred_y:f},{pred_z:f}\\n\")\n",
        "    \n",
        "    del batch_event_id, batch_features, test_pred"
      ]
    },
    {
      "cell_type": "markdown",
      "id": "75a123f7",
      "metadata": {
        "papermill": {
          "duration": 0.011958,
          "end_time": "2023-06-12T21:09:33.902856",
          "exception": false,
          "start_time": "2023-06-12T21:09:33.890898",
          "status": "completed"
        },
        "tags": [],
        "id": "75a123f7"
      },
      "source": [
        "# **Memory management**"
      ]
    },
    {
      "cell_type": "markdown",
      "id": "f1a837de",
      "metadata": {
        "papermill": {
          "duration": 0.011462,
          "end_time": "2023-06-12T21:09:33.926004",
          "exception": false,
          "start_time": "2023-06-12T21:09:33.914542",
          "status": "completed"
        },
        "tags": [],
        "id": "f1a837de"
      },
      "source": [
        "Discard models from GPU and RAM"
      ]
    },
    {
      "cell_type": "code",
      "execution_count": null,
      "id": "9dcaa35d",
      "metadata": {
        "execution": {
          "iopub.execute_input": "2023-06-12T21:09:33.952659Z",
          "iopub.status.busy": "2023-06-12T21:09:33.951877Z",
          "iopub.status.idle": "2023-06-12T21:09:34.545868Z",
          "shell.execute_reply": "2023-06-12T21:09:34.543723Z"
        },
        "papermill": {
          "duration": 0.610877,
          "end_time": "2023-06-12T21:09:34.549108",
          "exception": false,
          "start_time": "2023-06-12T21:09:33.938231",
          "status": "completed"
        },
        "tags": [],
        "id": "9dcaa35d",
        "outputId": "f87735a6-7033-418e-b471-e36516290733"
      },
      "outputs": [
        {
          "name": "stdout",
          "output_type": "stream",
          "text": [
            "gc collect:  62459\n"
          ]
        }
      ],
      "source": [
        "del model_da\n",
        "tf.keras.backend.clear_session()\n",
        "print(\"gc collect: \", gc.collect())"
      ]
    },
    {
      "cell_type": "markdown",
      "id": "6cd32aa6",
      "metadata": {
        "papermill": {
          "duration": 0.011271,
          "end_time": "2023-06-12T21:09:34.572748",
          "exception": false,
          "start_time": "2023-06-12T21:09:34.561477",
          "status": "completed"
        },
        "tags": [],
        "id": "6cd32aa6"
      },
      "source": [
        "# **Conversion to angle**"
      ]
    },
    {
      "cell_type": "code",
      "execution_count": null,
      "id": "8b8cc0b6",
      "metadata": {
        "execution": {
          "iopub.execute_input": "2023-06-12T21:09:34.600801Z",
          "iopub.status.busy": "2023-06-12T21:09:34.600353Z",
          "iopub.status.idle": "2023-06-12T21:09:34.616391Z",
          "shell.execute_reply": "2023-06-12T21:09:34.613675Z"
        },
        "papermill": {
          "duration": 0.035324,
          "end_time": "2023-06-12T21:09:34.619700",
          "exception": false,
          "start_time": "2023-06-12T21:09:34.584376",
          "status": "completed"
        },
        "tags": [],
        "id": "8b8cc0b6"
      },
      "outputs": [],
      "source": [
        "# read predictions\n",
        "pred_da = pd.read_csv(\"pred_da.csv\")\n",
        "\n",
        "event_id = pred_da.event_id.values\n",
        "\n",
        "pred_da_x = pred_da.pred_x.values\n",
        "pred_da_y = pred_da.pred_y.values\n",
        "pred_da_z = pred_da.pred_z.values"
      ]
    },
    {
      "cell_type": "code",
      "execution_count": null,
      "id": "741b4b8c",
      "metadata": {
        "execution": {
          "iopub.execute_input": "2023-06-12T21:09:34.649332Z",
          "iopub.status.busy": "2023-06-12T21:09:34.648759Z",
          "iopub.status.idle": "2023-06-12T21:09:34.665002Z",
          "shell.execute_reply": "2023-06-12T21:09:34.663069Z"
        },
        "papermill": {
          "duration": 0.034454,
          "end_time": "2023-06-12T21:09:34.668444",
          "exception": false,
          "start_time": "2023-06-12T21:09:34.633990",
          "status": "completed"
        },
        "tags": [],
        "id": "741b4b8c"
      },
      "outputs": [],
      "source": [
        "test_pred = np.zeros((len(pred_da_x), 3))\n",
        "\n",
        "test_pred[:, 0] = pred_da_x\n",
        "test_pred[:, 1] = pred_da_y\n",
        "test_pred[:, 2] = pred_da_z\n",
        "\n",
        "# convert to angle\n",
        "kappa_pred = np.linalg.norm(test_pred, axis=1)\n",
        "vec_x_pred = test_pred[:, 0] / kappa_pred\n",
        "vec_y_pred = test_pred[:, 1] / kappa_pred\n",
        "vec_z_pred = test_pred[:, 2] / kappa_pred\n",
        "az_pred = np.arctan2(vec_y_pred, vec_x_pred)\n",
        "az_pred = np.where(az_pred < 0, az_pred + 2*np.pi, az_pred)\n",
        "zen_pred = np.arccos(vec_z_pred)"
      ]
    },
    {
      "cell_type": "markdown",
      "id": "5bb7a203",
      "metadata": {
        "papermill": {
          "duration": 0.012645,
          "end_time": "2023-06-12T21:09:34.694053",
          "exception": false,
          "start_time": "2023-06-12T21:09:34.681408",
          "status": "completed"
        },
        "tags": [],
        "id": "5bb7a203"
      },
      "source": [
        "# **Results**"
      ]
    },
    {
      "cell_type": "code",
      "execution_count": null,
      "id": "e019506c",
      "metadata": {
        "execution": {
          "iopub.execute_input": "2023-06-12T21:09:34.721036Z",
          "iopub.status.busy": "2023-06-12T21:09:34.720531Z",
          "iopub.status.idle": "2023-06-12T21:09:34.730568Z",
          "shell.execute_reply": "2023-06-12T21:09:34.728808Z"
        },
        "papermill": {
          "duration": 0.026901,
          "end_time": "2023-06-12T21:09:34.733601",
          "exception": false,
          "start_time": "2023-06-12T21:09:34.706700",
          "status": "completed"
        },
        "tags": [],
        "id": "e019506c"
      },
      "outputs": [],
      "source": [
        "with open('results.csv', 'w') as results:\n",
        "    results.write('event_id,azimuth,zenith\\n')\n",
        "    \n",
        "with open('results.csv', 'a') as results:\n",
        "    for event, azimuth, zenith in zip(event_id, az_pred, zen_pred):\n",
        "        results.write(f\"{event:d},{azimuth:f},{zenith:f}\\n\")"
      ]
    }
  ],
  "metadata": {
    "kernelspec": {
      "display_name": "Python 3",
      "language": "python",
      "name": "python3"
    },
    "language_info": {
      "codemirror_mode": {
        "name": "ipython",
        "version": 3
      },
      "file_extension": ".py",
      "mimetype": "text/x-python",
      "name": "python",
      "nbconvert_exporter": "python",
      "pygments_lexer": "ipython3",
      "version": "3.10.10"
    },
    "papermill": {
      "default_parameters": {},
      "duration": 60.859278,
      "end_time": "2023-06-12T21:09:38.133068",
      "environment_variables": {},
      "exception": null,
      "input_path": "__notebook__.ipynb",
      "output_path": "__notebook__.ipynb",
      "parameters": {},
      "start_time": "2023-06-12T21:08:37.273790",
      "version": "2.4.0"
    },
    "colab": {
      "provenance": []
    }
  },
  "nbformat": 4,
  "nbformat_minor": 5
}